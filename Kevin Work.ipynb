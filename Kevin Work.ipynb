{
 "cells": [
  {
   "cell_type": "markdown",
   "metadata": {},
   "source": [
    "## Creating residues from protein pdb\n",
    "-----\n",
    "**Uses algorithm to split pdb into small residue pdbs and writes them to one path**"
   ]
  },
  {
   "cell_type": "code",
   "execution_count": 1,
   "metadata": {
    "collapsed": false
   },
   "outputs": [],
   "source": [
    "import numpy as np\n",
    "data = np.genfromtxt('data_for_cutoff.pdb', dtype = str)\n",
    "cutoff_list = []\n",
    "\n",
    "def enumerate_cutoff_list(used_data):\n",
    "    row_var = 0\n",
    "    while(more_residues(row_var, data) == True):\n",
    "        initial_type = used_data[row_var][5]\n",
    "        broken_chain = False\n",
    "        while((broken_chain == False)):\n",
    "            row_var = row_var + 1\n",
    "            if(used_data[row_var][5] == initial_type):\n",
    "                broken_chain = False\n",
    "            else:\n",
    "                cutoff_list.append(row_var)\n",
    "                broken_chain = True\n",
    "                \n",
    "def more_residues(wall, used_data):\n",
    "    first_seen = used_data[wall][5]\n",
    "    for i in range(wall, used_data.shape[0]):\n",
    "        if(used_data[i][5] != first_seen):\n",
    "            return True\n",
    "            break\n",
    "    return False\n",
    "\n",
    "if __name__ == '__main__':\n",
    "    enumerate_cutoff_list(data)"
   ]
  },
  {
   "cell_type": "code",
   "execution_count": 2,
   "metadata": {
    "collapsed": false
   },
   "outputs": [],
   "source": [
    "# new method using python inbuilt open function\n",
    "import os.path\n",
    "\n",
    "newpath = \".\\Generated Residues\"\n",
    "if not os.path.exists(newpath):\n",
    "    os.makedirs(newpath)\n",
    "    \n",
    "save_path = \".\\Generated Residues\"\n",
    "\n",
    "data = open('kevin_data.pdb', 'r').read().split('\\n')\n",
    "\n",
    "for i in range(len(cutoff_list)):\n",
    "    if(i == 0):\n",
    "        outputData = data[0:cutoff_list[i]]\n",
    "    elif(i == (len(cutoff_list) - 1)):\n",
    "        outputData = data[cutoff_list[i]:len(data)]\n",
    "    else:\n",
    "        outputData = data[cutoff_list[i]:cutoff_list[i+1]]\n",
    "    file_name = os.path.join(save_path, 'res' + str(i+1) + '.pdb')\n",
    "    produced_pdb = open(file_name, 'w')\n",
    "#   produced_pdb = open('res' + str(i+1) + '.pdb', 'w')    \n",
    "    produced_pdb.write('\\n'.join(outputData))\n",
    "    produced_pdb.close()   \n"
   ]
  },
  {
   "cell_type": "code",
   "execution_count": 1,
   "metadata": {
    "collapsed": false
   },
   "outputs": [
    {
     "name": "stdout",
     "output_type": "stream",
     "text": [
      "hello\n"
     ]
    }
   ],
   "source": [
    "print('hello')"
   ]
  },
  {
   "cell_type": "code",
   "execution_count": null,
   "metadata": {
    "collapsed": true
   },
   "outputs": [],
   "source": []
  }
 ],
 "metadata": {
  "kernelspec": {
   "display_name": "Python 3",
   "language": "python",
   "name": "python3"
  },
  "language_info": {
   "codemirror_mode": {
    "name": "ipython",
    "version": 3
   },
   "file_extension": ".py",
   "mimetype": "text/x-python",
   "name": "python",
   "nbconvert_exporter": "python",
   "pygments_lexer": "ipython3",
   "version": "3.6.0"
  }
 },
 "nbformat": 4,
 "nbformat_minor": 2
}
